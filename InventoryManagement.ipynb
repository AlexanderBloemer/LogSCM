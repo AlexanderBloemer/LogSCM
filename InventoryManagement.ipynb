{
 "cells": [
  {
   "cell_type": "markdown",
   "id": "14678e84",
   "metadata": {},
   "source": [
    "### Demand generation\n",
    "Decide whether demand is given or randomly generated"
   ]
  },
  {
   "cell_type": "code",
   "execution_count": null,
   "id": "b20ecefa",
   "metadata": {},
   "outputs": [],
   "source": [
    "# Option 1 : given demand\n",
    "demand = [217, 305, 42, 231, 263, 75]\n",
    "numPeriods = len(demand)"
   ]
  },
  {
   "cell_type": "code",
   "execution_count": 1,
   "id": "54130206",
   "metadata": {},
   "outputs": [
    {
     "name": "stdout",
     "output_type": "stream",
     "text": [
      "[102, 74, 375, 427, 240, 371]\n"
     ]
    }
   ],
   "source": [
    "# Option 2 : randomly generated\n",
    "import random\n",
    "random.seed('0123456')\n",
    "maxDemand = 500\n",
    "numPeriods = 6\n",
    "\n",
    "demand = [int(maxDemand*random.random()) for t in range(numPeriods)]\n",
    "print(demand)"
   ]
  },
  {
   "cell_type": "markdown",
   "id": "7553ce32",
   "metadata": {},
   "source": [
    "### Inventory Policy\n",
    "Decide on the inventory policy"
   ]
  },
  {
   "cell_type": "code",
   "execution_count": 2,
   "id": "8573b8c8",
   "metadata": {},
   "outputs": [],
   "source": [
    "policy = \"s,Q\""
   ]
  },
  {
   "cell_type": "code",
   "execution_count": null,
   "id": "89a3b21e",
   "metadata": {},
   "outputs": [],
   "source": [
    "policy = \"R,S\""
   ]
  },
  {
   "cell_type": "code",
   "execution_count": null,
   "id": "83516691",
   "metadata": {},
   "outputs": [],
   "source": [
    "policy = \"s,S\""
   ]
  },
  {
   "cell_type": "markdown",
   "id": "f4bb04ca",
   "metadata": {},
   "source": [
    "### Parameters"
   ]
  },
  {
   "cell_type": "code",
   "execution_count": 3,
   "id": "fe07bf36",
   "metadata": {},
   "outputs": [],
   "source": [
    "inventory = 250  # initial inventory at simulation start\n",
    "L = 2\n",
    "\n",
    "# parameters for policies (R,S), (s,Q), or (s,S)\n",
    "R = 2  # periodic ordering\n",
    "S = 750  # order-up-to level\n",
    "s = 320  # reorder point\n",
    "Q = 550  # lot size"
   ]
  },
  {
   "cell_type": "markdown",
   "id": "2543141f",
   "metadata": {},
   "source": [
    "### Calculation"
   ]
  },
  {
   "cell_type": "code",
   "execution_count": 4,
   "id": "53e91311",
   "metadata": {},
   "outputs": [
    {
     "name": "stdout",
     "output_type": "stream",
     "text": [
      "Policy: s,Q\n"
     ]
    },
    {
     "data": {
      "text/html": [
       "<div>\n",
       "<style scoped>\n",
       "    .dataframe tbody tr th:only-of-type {\n",
       "        vertical-align: middle;\n",
       "    }\n",
       "\n",
       "    .dataframe tbody tr th {\n",
       "        vertical-align: top;\n",
       "    }\n",
       "\n",
       "    .dataframe thead th {\n",
       "        text-align: right;\n",
       "    }\n",
       "</style>\n",
       "<table border=\"1\" class=\"dataframe\">\n",
       "  <thead>\n",
       "    <tr style=\"text-align: right;\">\n",
       "      <th></th>\n",
       "      <th>Initial Inventory</th>\n",
       "      <th>Inventory Position</th>\n",
       "      <th>Order Quantity</th>\n",
       "      <th>Inventory after Delivery</th>\n",
       "      <th>Demand</th>\n",
       "      <th>Final Inventory</th>\n",
       "      <th>Average Inventory</th>\n",
       "      <th>Fulfilled Demand</th>\n",
       "      <th>Stockout</th>\n",
       "    </tr>\n",
       "  </thead>\n",
       "  <tbody>\n",
       "    <tr>\n",
       "      <th>0</th>\n",
       "      <td>250</td>\n",
       "      <td>250</td>\n",
       "      <td>550</td>\n",
       "      <td>250</td>\n",
       "      <td>102</td>\n",
       "      <td>148</td>\n",
       "      <td>199.00</td>\n",
       "      <td>102</td>\n",
       "      <td>0</td>\n",
       "    </tr>\n",
       "    <tr>\n",
       "      <th>1</th>\n",
       "      <td>148</td>\n",
       "      <td>698</td>\n",
       "      <td>0</td>\n",
       "      <td>148</td>\n",
       "      <td>74</td>\n",
       "      <td>74</td>\n",
       "      <td>111.00</td>\n",
       "      <td>74</td>\n",
       "      <td>0</td>\n",
       "    </tr>\n",
       "    <tr>\n",
       "      <th>2</th>\n",
       "      <td>74</td>\n",
       "      <td>624</td>\n",
       "      <td>0</td>\n",
       "      <td>624</td>\n",
       "      <td>375</td>\n",
       "      <td>249</td>\n",
       "      <td>436.50</td>\n",
       "      <td>375</td>\n",
       "      <td>0</td>\n",
       "    </tr>\n",
       "    <tr>\n",
       "      <th>3</th>\n",
       "      <td>249</td>\n",
       "      <td>249</td>\n",
       "      <td>550</td>\n",
       "      <td>249</td>\n",
       "      <td>427</td>\n",
       "      <td>-178</td>\n",
       "      <td>72.60</td>\n",
       "      <td>249</td>\n",
       "      <td>1</td>\n",
       "    </tr>\n",
       "    <tr>\n",
       "      <th>4</th>\n",
       "      <td>-178</td>\n",
       "      <td>372</td>\n",
       "      <td>0</td>\n",
       "      <td>-178</td>\n",
       "      <td>240</td>\n",
       "      <td>-418</td>\n",
       "      <td>0.00</td>\n",
       "      <td>0</td>\n",
       "      <td>1</td>\n",
       "    </tr>\n",
       "    <tr>\n",
       "      <th>5</th>\n",
       "      <td>-418</td>\n",
       "      <td>132</td>\n",
       "      <td>550</td>\n",
       "      <td>132</td>\n",
       "      <td>371</td>\n",
       "      <td>-239</td>\n",
       "      <td>23.48</td>\n",
       "      <td>132</td>\n",
       "      <td>1</td>\n",
       "    </tr>\n",
       "  </tbody>\n",
       "</table>\n",
       "</div>"
      ],
      "text/plain": [
       "   Initial Inventory  Inventory Position  Order Quantity  \\\n",
       "0                250                 250             550   \n",
       "1                148                 698               0   \n",
       "2                 74                 624               0   \n",
       "3                249                 249             550   \n",
       "4               -178                 372               0   \n",
       "5               -418                 132             550   \n",
       "\n",
       "   Inventory after Delivery  Demand  Final Inventory  Average Inventory  \\\n",
       "0                       250     102              148             199.00   \n",
       "1                       148      74               74             111.00   \n",
       "2                       624     375              249             436.50   \n",
       "3                       249     427             -178              72.60   \n",
       "4                      -178     240             -418               0.00   \n",
       "5                       132     371             -239              23.48   \n",
       "\n",
       "   Fulfilled Demand  Stockout  \n",
       "0               102         0  \n",
       "1                74         0  \n",
       "2               375         0  \n",
       "3               249         1  \n",
       "4                 0         1  \n",
       "5               132         1  "
      ]
     },
     "execution_count": 4,
     "metadata": {},
     "output_type": "execute_result"
    }
   ],
   "source": [
    "import pandas as pd\n",
    "\n",
    "II = []  # initial inventory\n",
    "IP = []  # inventory position\n",
    "OQ = []  # order quantity\n",
    "IA = []  # inventory after delivery\n",
    "FI = []  # final inventory\n",
    "AI = []  # average inventory\n",
    "FD = []  # fulfilled demand\n",
    "SO = []  # stockout (binary)\n",
    "\n",
    "for t in range(numPeriods):\n",
    "    II.append(inventory if t == 0 else FI[t-1])\n",
    "    \n",
    "    ip = II[t]\n",
    "    for l in range(1, L+1):\n",
    "        ip += 0 if t-l < 0 else OQ[t-l]\n",
    "    IP.append(ip)\n",
    "    \n",
    "    oq_dict = {\n",
    "        \"s,Q\": Q if ip <= s else 0,\n",
    "        \"R,S\": max(S - ip, 0) if (t % R == 0) else 0,\n",
    "        \"s,S\": max(S - ip, 0) if ip <= s else 0\n",
    "    }\n",
    "    OQ.append(oq_dict.get(policy))\n",
    "    \n",
    "    IA.append(II[t] + (0 if t-L < 0 else OQ[t-L]))\n",
    "    FI.append(IA[t] - demand[t])\n",
    "    AI.append(0.5*(IA[t]+FI[t]) if FI[t] >= 0 else (IA[t]*IA[t]/(2*demand[t]) if IA[t] >= 0 else 0))\n",
    "    FD.append(max(min(IA[t], demand[t]), 0))\n",
    "    SO.append(1 if FI[t] < 0 else 0)\n",
    "\n",
    "print(\"Policy: \" + policy)\n",
    "\n",
    "pd.DataFrame(\n",
    "    [[II[i], IP[i], OQ[i], IA[i], demand[i], FI[i], round(AI[i],2), FD[i], SO[i]] for i in range(numPeriods)], \n",
    "    columns=[\"Initial Inventory\", \"Inventory Position\", \"Order Quantity\", \"Inventory after Delivery\", \"Demand\", \"Final Inventory\", \"Average Inventory\", \"Fulfilled Demand\", \"Stockout\"])"
   ]
  },
  {
   "cell_type": "code",
   "execution_count": 5,
   "id": "d5d2b707",
   "metadata": {},
   "outputs": [
    {
     "data": {
      "image/png": "[encoded data removed]",
      "text/plain": [
       "<Figure size 640x480 with 1 Axes>"
      ]
     },
     "metadata": {},
     "output_type": "display_data"
    }
   ],
   "source": [
    "from matplotlib import pyplot as plt, cm\n",
    "\n",
    "plt.plot(range(numPeriods), IP, label='Inventory Position', linestyle='dashed', color='orange')\n",
    "plt.plot(range(numPeriods), IA, label='Inventory after Delivery')\n",
    "plt.plot(range(numPeriods), demand, label='Demand')\n",
    "if policy == \"s,Q\" or policy == \"s,S\":\n",
    "    plt.plot(range(numPeriods), [s for t in range(numPeriods)], label='s', color='black')\n",
    "plt.legend()\n",
    "plt.show()"
   ]
  },
  {
   "cell_type": "code",
   "execution_count": 6,
   "id": "6e21ad53",
   "metadata": {},
   "outputs": [
    {
     "name": "stdout",
     "output_type": "stream",
     "text": [
      "alpha = 0.5\n",
      "beta = 0.5865\n"
     ]
    }
   ],
   "source": [
    "alpha = 1 - sum(SO)/numPeriods\n",
    "beta = sum(FD)/sum(demand)\n",
    "print(\"alpha = \" + str(round(alpha, 4)))\n",
    "print(\"beta = \" + str(round(beta, 4)))"
   ]
  }
 ],
 "metadata": {
  "kernelspec": {
   "display_name": "Python 3 (ipykernel)",
   "language": "python",
   "name": "python3"
  },
  "language_info": {
   "codemirror_mode": {
    "name": "ipython",
    "version": 3
   },
   "file_extension": ".py",
   "mimetype": "text/x-python",
   "name": "python",
   "nbconvert_exporter": "python",
   "pygments_lexer": "ipython3",
   "version": "3.9.7"
  }
 },
 "nbformat": 4,
 "nbformat_minor": 5
}
