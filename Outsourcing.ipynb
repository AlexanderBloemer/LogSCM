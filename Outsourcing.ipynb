{
 "cells": [
  {
   "cell_type": "code",
   "execution_count": 1,
   "id": "07bee04e",
   "metadata": {},
   "outputs": [
    {
     "name": "stdout",
     "output_type": "stream",
     "text": [
      "Order costs separate = 8869.093879117314\n",
      "Order costs combined = 8828.086305951942\n"
     ]
    }
   ],
   "source": [
    "import math\n",
    "\n",
    "expected_demand = {\n",
    "    \"A\": 700,\n",
    "    \"B\": 550\n",
    "}\n",
    "expected_demand[\"AB\"] = expected_demand[\"A\"] + expected_demand[\"B\"]\n",
    "\n",
    "standard_dev = {\n",
    "    \"A\": 135,\n",
    "    \"B\": 85\n",
    "}\n",
    "standard_dev[\"AB\"] = math.sqrt(standard_dev[\"A\"]**2 + standard_dev[\"B\"]**2)\n",
    "\n",
    "price = {\n",
    "    \"A\": 6,\n",
    "    \"B\": 5,\n",
    "    \"AB\": 6\n",
    "}\n",
    "\n",
    "F = {  # fixed order costs\n",
    "    \"A\": 70,\n",
    "    \"B\": 90,\n",
    "    \"AB\": 90\n",
    "}\n",
    "\n",
    "h = {  # holding costs\n",
    "    \"A\": 2,\n",
    "    \"B\": 2,\n",
    "    \"AB\": 2\n",
    "}\n",
    "\n",
    "L = {  # lead time\n",
    "    \"A\": 1.5,\n",
    "    \"B\": 1,\n",
    "    \"AB\": 1\n",
    "}\n",
    "\n",
    "k = {  # parameter from service level\n",
    "    \"A\": 2.06,\n",
    "    \"B\": 2.06,\n",
    "    \"AB\": 2.06\n",
    "}\n",
    "\n",
    "options = [\"A\", \"B\", \"AB\"]\n",
    "\n",
    "purchasing_costs = {}\n",
    "safety_stock_costs = {}\n",
    "economic_order_costs = {}\n",
    "\n",
    "for o in options:\n",
    "    purchasing_costs[o] = expected_demand[o] * price[o]\n",
    "    safety_stock_costs[o] = k[o] * standard_dev[o] * math.sqrt(L[o]) * h[o]\n",
    "    economic_order_costs[o] = math.sqrt(2 * F[o] * expected_demand[o] * h[o])\n",
    "\n",
    "def total_costs(options):\n",
    "    return sum([purchasing_costs[o] + safety_stock_costs[o] + economic_order_costs[o] for o in options])\n",
    "sep = [\"A\", \"B\"]\n",
    "comb = [\"AB\"]\n",
    "print(f\"Order costs separate = {total_costs(sep)}\")\n",
    "print(f\"Order costs combined = {total_costs(comb)}\")"
   ]
  },
  {
   "cell_type": "markdown",
   "id": "6934cf54",
   "metadata": {},
   "source": [
    "At what fixed order costs of carrier A would the economic order costs of the separation strategy (carriers A+B) be equal to those of the combined strategy (only carrier B)? "
   ]
  },
  {
   "cell_type": "code",
   "execution_count": 2,
   "id": "52178d30",
   "metadata": {},
   "outputs": [
    {
     "name": "stdout",
     "output_type": "stream",
     "text": [
      "Fixed order costs of A: 18.216977762867163\n"
     ]
    }
   ],
   "source": [
    "F_ = (economic_order_costs[\"AB\"] - economic_order_costs[\"B\"])**2 / (2 * expected_demand[\"A\"] * h[\"A\"])\n",
    "print(f\"Fixed order costs of A: {F_}\")"
   ]
  }
 ],
 "metadata": {
  "kernelspec": {
   "display_name": "Python 3 (ipykernel)",
   "language": "python",
   "name": "python3"
  },
  "language_info": {
   "codemirror_mode": {
    "name": "ipython",
    "version": 3
   },
   "file_extension": ".py",
   "mimetype": "text/x-python",
   "name": "python",
   "nbconvert_exporter": "python",
   "pygments_lexer": "ipython3",
   "version": "3.9.7"
  }
 },
 "nbformat": 4,
 "nbformat_minor": 5
}
