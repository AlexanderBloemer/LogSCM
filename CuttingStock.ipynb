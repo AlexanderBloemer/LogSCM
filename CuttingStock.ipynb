{
 "cells": [
  {
   "cell_type": "markdown",
   "id": "469250a5",
   "metadata": {},
   "source": [
    "# The Cutting Stock Problem\n",
    "You are given a product with a standard length of `totalLength`.\n",
    "This product (e.g., a steel coil) can be cut down to smaller lengths (`lengths`).\n",
    "For these smaller lengths, you face deterministic demand (`demand`).\n",
    "\n",
    "The task is to determine possible patterns of cutting the standard length product into pieces with smaller lengths so that\n",
    "- the total scrap / waste is minimized or\n",
    "- the number of standard length pieces used is minimized\n",
    "\n",
    "Smaller length pieces that exceed demand can be stored, but there is only a limited storage capacity (`capacity`).\n",
    "\n",
    "Note that the number of smaller lengths can be easily extended to > 2 (adjusting `lengths` and `demand`). "
   ]
  },
  {
   "cell_type": "code",
   "execution_count": 4,
   "id": "5faaae17",
   "metadata": {},
   "outputs": [],
   "source": [
    "# parameters\n",
    "totalLength = 210\n",
    "lengths = [45, 27]\n",
    "demand = [200, 3000]  # demand for each length\n",
    "capacity = 160  # capacity of storage for waste / remainings\n",
    "\n",
    "num = len(lengths)"
   ]
  },
  {
   "cell_type": "code",
   "execution_count": 5,
   "id": "2c85e495",
   "metadata": {},
   "outputs": [
    {
     "name": "stdout",
     "output_type": "stream",
     "text": [
      "Maximum number of pieces for item 0: 4\n",
      "Maximum number of pieces for item 1: 7\n"
     ]
    }
   ],
   "source": [
    "# determine maximum amount of pieces for each smaller length per standard length\n",
    "max_ = {}\n",
    "for i in range(0, num):\n",
    "    max_[i] = int(totalLength/lengths[i])\n",
    "    print(f\"Maximum number of pieces for item {i}: {max_[i]}\")"
   ]
  },
  {
   "cell_type": "markdown",
   "id": "106a8f07",
   "metadata": {},
   "source": [
    "### Patterns\n",
    "In a first step, we identify all possible patterns (i.e., combinations of cutting the standard length product into smaller length products).\n",
    "For this, we calculate the total number of possible combinations / patterns (`numCombinations`) and map each of these patterns to a number between `0` and `numCombinations`."
   ]
  },
  {
   "cell_type": "code",
   "execution_count": 38,
   "id": "a51f287b",
   "metadata": {},
   "outputs": [
    {
     "name": "stdout",
     "output_type": "stream",
     "text": [
      "Number of possible patterns: 40\n",
      "\n",
      "pattern\t | length\t | scrap\n",
      "(0, 0)\t | 0\t\t | 210\n",
      "(0, 1)\t | 27\t\t | 183\n",
      "(0, 2)\t | 54\t\t | 156\n",
      "(0, 3)\t | 81\t\t | 129\n",
      "(0, 4)\t | 108\t\t | 102\n",
      "(0, 5)\t | 135\t\t | 75\n",
      "(0, 6)\t | 162\t\t | 48\n",
      "(0, 7)\t | 189\t\t | 21\n",
      "(1, 0)\t | 45\t\t | 165\n",
      "(1, 1)\t | 72\t\t | 138\n",
      "(1, 2)\t | 99\t\t | 111\n",
      "(1, 3)\t | 126\t\t | 84\n",
      "(1, 4)\t | 153\t\t | 57\n",
      "(1, 5)\t | 180\t\t | 30\n",
      "(1, 6)\t | 207\t\t | 3\n",
      "(1, 7)\t | 234\t\t | -24\n",
      "(2, 0)\t | 90\t\t | 120\n",
      "(2, 1)\t | 117\t\t | 93\n",
      "(2, 2)\t | 144\t\t | 66\n",
      "(2, 3)\t | 171\t\t | 39\n",
      "(2, 4)\t | 198\t\t | 12\n",
      "(2, 5)\t | 225\t\t | -15\n",
      "(2, 6)\t | 252\t\t | -42\n",
      "(2, 7)\t | 279\t\t | -69\n",
      "(3, 0)\t | 135\t\t | 75\n",
      "(3, 1)\t | 162\t\t | 48\n",
      "(3, 2)\t | 189\t\t | 21\n",
      "(3, 3)\t | 216\t\t | -6\n",
      "(3, 4)\t | 243\t\t | -33\n",
      "(3, 5)\t | 270\t\t | -60\n",
      "(3, 6)\t | 297\t\t | -87\n",
      "(3, 7)\t | 324\t\t | -114\n",
      "(4, 0)\t | 180\t\t | 30\n",
      "(4, 1)\t | 207\t\t | 3\n",
      "(4, 2)\t | 234\t\t | -24\n",
      "(4, 3)\t | 261\t\t | -51\n",
      "(4, 4)\t | 288\t\t | -78\n",
      "(4, 5)\t | 315\t\t | -105\n",
      "(4, 6)\t | 342\t\t | -132\n",
      "(4, 7)\t | 369\t\t | -159\n"
     ]
    }
   ],
   "source": [
    "multipliers = {}\n",
    "for i in range(0, num):\n",
    "    multipliers[i] = 1\n",
    "for i in range(0, num-1):\n",
    "    for j in range(i+1, num):\n",
    "        multipliers[i] *= (max_[j]+1)\n",
    "\n",
    "numCombinations = 1\n",
    "for i in range(0, num):\n",
    "    numCombinations *= max_[i]+1\n",
    "\n",
    "print(f\"Number of possible patterns: {numCombinations}\")\n",
    "    \n",
    "patterns = []\n",
    "for i in range(0, numCombinations):\n",
    "    comb = ()\n",
    "    rem = i\n",
    "    for j in range(0, num):\n",
    "        temp = int(rem/multipliers[j])\n",
    "        rem = i % multipliers[j]\n",
    "        comb = comb + (temp,)\n",
    "    len_ = 0\n",
    "    for i in range(0, num):\n",
    "        len_ += comb[i]*lengths[i]\n",
    "    patterns.append({\n",
    "        \"pattern\": comb,\n",
    "        \"length\": len_,\n",
    "        \"scrap\": totalLength - len_\n",
    "    })\n",
    "print()\n",
    "print(\"pattern\\t | length\\t | scrap\")\n",
    "for i in range(0, len(patterns)):\n",
    "    p = patterns[i]\n",
    "    print(f\"{p['pattern']}\\t | {p['length']}\\t\\t | {p['scrap']}\")"
   ]
  },
  {
   "cell_type": "markdown",
   "id": "6f4273ef",
   "metadata": {},
   "source": [
    "In the next step, we identify valid patterns (total length does not exceed standard product length `totalLength`) and undominated patterns (it is not possible to cut an additional smaller length piece)."
   ]
  },
  {
   "cell_type": "code",
   "execution_count": 36,
   "id": "8cb55751",
   "metadata": {},
   "outputs": [
    {
     "name": "stdout",
     "output_type": "stream",
     "text": [
      "Number of valid and undominated patterns: 5\n",
      "\n",
      "pattern\t | length\t | scrap\n",
      "(0, 7)\t | 189\t\t | 21\n",
      "(1, 6)\t | 207\t\t | 3\n",
      "(2, 4)\t | 198\t\t | 12\n",
      "(3, 2)\t | 189\t\t | 21\n",
      "(4, 1)\t | 207\t\t | 3\n"
     ]
    }
   ],
   "source": [
    "patterns_select = []\n",
    "for p in patterns:\n",
    "    p[\"valid\"] = (p[\"length\"] <= totalLength)\n",
    "    p[\"undominated\"] = True\n",
    "    for i in range(0, num):\n",
    "        p[\"undominated\"] = p[\"undominated\"] and (p[\"scrap\"] < lengths[i])\n",
    "    if p[\"valid\"] and p[\"undominated\"]:\n",
    "        patterns_select.append(p)\n",
    "\n",
    "print(f\"Number of valid and undominated patterns: {len(patterns_select)}\")\n",
    "print()\n",
    "print(\"pattern\\t | length\\t | scrap\")\n",
    "for i in range(0, len(patterns_select)):\n",
    "    p = patterns_select[i]\n",
    "    print(f\"{p['pattern']}\\t | {p['length']}\\t\\t | {p['scrap']}\")"
   ]
  },
  {
   "cell_type": "markdown",
   "id": "951aa806",
   "metadata": {},
   "source": [
    "### Optimization\n",
    "Using `scipy`, we define the constraints and objective functions.\n",
    "\n",
    "The decision variables consist of the number of times, a pattern is used, and the number of leftovers for each smaller length."
   ]
  },
  {
   "cell_type": "code",
   "execution_count": 19,
   "id": "71afe1bb",
   "metadata": {},
   "outputs": [],
   "source": [
    "import numpy as np\n",
    "from scipy import optimize\n",
    "\n",
    "minScrap = []\n",
    "minRolls = []\n",
    "for p in range(0, len(patterns_select)):\n",
    "    minScrap.append(patterns_select[p][\"scrap\"])\n",
    "    minRolls.append(1)\n",
    "for l in lengths:\n",
    "    minScrap.append(0)  # no penalty for overstock\n",
    "    minRolls.append(0)  # no penalty for overstock\n",
    "    \n",
    "# order fulfillment\n",
    "A = []\n",
    "b_lb = []\n",
    "b_ub = []\n",
    "for i in range(0, num):\n",
    "    temp = []\n",
    "    for p in range(0, len(patterns_select)):\n",
    "        temp.append(patterns_select[p][\"pattern\"][i])\n",
    "    for j in range(0, num):\n",
    "        if i==j:\n",
    "            temp.append(-1)  # consider overstock y\n",
    "        else:\n",
    "            temp.append(0)\n",
    "    A.append(temp)\n",
    "    b_ub.append(demand[i])\n",
    "    b_lb.append(demand[i])\n",
    "c1 = optimize.LinearConstraint(A, b_lb, b_ub)\n",
    "\n",
    "# storage restriction\n",
    "A = []\n",
    "for p in range(0, len(patterns_select)):\n",
    "    A.append(0)\n",
    "for l in lengths:\n",
    "    A.append(1)\n",
    "c2 = optimize.LinearConstraint(A, 0, capacity)\n",
    "\n",
    "constraints = [c1,c2]\n",
    "\n",
    "bounds = optimize.Bounds(0, np.inf)\n",
    "integrality = np.ones_like(minScrap)  # integers"
   ]
  },
  {
   "cell_type": "markdown",
   "id": "5a288981",
   "metadata": {},
   "source": [
    "Select the appropriate objective function"
   ]
  },
  {
   "cell_type": "code",
   "execution_count": 22,
   "id": "edf42451",
   "metadata": {},
   "outputs": [],
   "source": [
    "obj = minScrap\n",
    "# obj = minRolls"
   ]
  },
  {
   "cell_type": "markdown",
   "id": "eca76289",
   "metadata": {},
   "source": [
    "Run the optimization"
   ]
  },
  {
   "cell_type": "code",
   "execution_count": 31,
   "id": "c8571f8d",
   "metadata": {},
   "outputs": [
    {
     "name": "stdout",
     "output_type": "stream",
     "text": [
      "Optimization terminated successfully. (HiGHS Status 7: Optimal)\n",
      "[120. 360.   0.   0.   0. 160.   0.]\n",
      "\n",
      "pattern\t | # of times in optimal solution\n",
      "(0, 7)\t | 120.0\n",
      "(1, 6)\t | 360.0\n",
      "(2, 4)\t | 0.0\n",
      "(3, 2)\t | 0.0\n",
      "(4, 1)\t | 0.0\n",
      "\n",
      "length\t | demand\t | sum\t\t | leftovers\n",
      "45\t | 200\t\t | 360.0\t | 160.0\n",
      "27\t | 3000\t\t | 3000.0\t | 0.0\n",
      "\n",
      "scrap = 3600.0\n",
      "numRolls = 480.0\n"
     ]
    }
   ],
   "source": [
    "res = optimize.milp(c=obj, constraints=constraints, integrality=integrality, bounds=bounds)\n",
    "print(res.message)\n",
    "print(res.x)\n",
    "\n",
    "print()\n",
    "print(\"pattern\\t | # of times in optimal solution\")\n",
    "for i in range(0, len(patterns_select)):\n",
    "    p = patterns_select[i]\n",
    "    print(f\"{p['pattern']}\\t | {res.x[i]}\")\n",
    "\n",
    "print()\n",
    "print(\"length\\t | demand\\t | sum\\t\\t | leftovers\")\n",
    "for i in range(0, num):\n",
    "    total = 0\n",
    "    for p in range(0, len(patterns_select)):\n",
    "        total += res.x[p]*patterns_select[p][\"pattern\"][i]\n",
    "    print(f\"{lengths[i]}\\t | {demand[i]}\\t\\t | {total}\\t | {total - demand[i]}\")\n",
    "\n",
    "print()\n",
    "    \n",
    "scrap = 0\n",
    "for p in range(0, len(patterns_select)):\n",
    "    scrap += res.x[p]*patterns_select[p][\"scrap\"]\n",
    "print(f\"scrap = {scrap}\")\n",
    "\n",
    "numRolls = 0\n",
    "for p in range(0, len(patterns_select)):\n",
    "    numRolls += res.x[p]\n",
    "print(f\"numRolls = {numRolls}\")"
   ]
  }
 ],
 "metadata": {
  "kernelspec": {
   "display_name": "Python 3 (ipykernel)",
   "language": "python",
   "name": "python3"
  },
  "language_info": {
   "codemirror_mode": {
    "name": "ipython",
    "version": 3
   },
   "file_extension": ".py",
   "mimetype": "text/x-python",
   "name": "python",
   "nbconvert_exporter": "python",
   "pygments_lexer": "ipython3",
   "version": "3.9.7"
  }
 },
 "nbformat": 4,
 "nbformat_minor": 5
}
