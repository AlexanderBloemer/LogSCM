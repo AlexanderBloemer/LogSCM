{
 "cells": [
  {
   "cell_type": "code",
   "execution_count": 2,
   "id": "3bf86a39",
   "metadata": {
    "scrolled": true
   },
   "outputs": [],
   "source": [
    "distance = [\n",
    "    [0, 3, 5, 2, 6, 4],\n",
    "    [2, 0, 7, 5, 1, 3],\n",
    "    [2, 4, 0, 3, 2, 6],\n",
    "    [5, 3, 6, 0, 4, 4],\n",
    "    [1, 4, 5, 2, 0, 6],\n",
    "    [6, 5, 7, 3, 3, 0]\n",
    "]\n",
    "num = len(distance)"
   ]
  },
  {
   "cell_type": "code",
   "execution_count": 3,
   "id": "f85be54f",
   "metadata": {
    "scrolled": false
   },
   "outputs": [
    {
     "name": "stdout",
     "output_type": "stream",
     "text": [
      "Set parameter Username\n",
      "Academic license - for non-commercial use only - expires 2024-03-14\n",
      "Gurobi Optimizer version 10.0.1 build v10.0.1rc0 (win64)\n",
      "\n",
      "CPU model: Intel(R) Core(TM) i7-10510U CPU @ 1.80GHz, instruction set [SSE2|AVX|AVX2]\n",
      "Thread count: 4 physical cores, 8 logical processors, using up to 8 threads\n",
      "\n",
      "Optimize a model with 38 rows, 42 columns and 138 nonzeros\n",
      "Model fingerprint: 0x32060189\n",
      "Variable types: 6 continuous, 36 integer (36 binary)\n",
      "Coefficient statistics:\n",
      "  Matrix range     [1e+00, 6e+00]\n",
      "  Objective range  [1e+00, 7e+00]\n",
      "  Bounds range     [1e+00, 1e+00]\n",
      "  RHS range        [1e+00, 5e+00]\n",
      "Found heuristic solution: objective 19.0000000\n",
      "Presolve removed 6 rows and 7 columns\n",
      "Presolve time: 0.01s\n",
      "Presolved: 32 rows, 35 columns, 120 nonzeros\n",
      "Variable types: 5 continuous, 30 integer (30 binary)\n",
      "\n",
      "Root relaxation: objective 1.725000e+01, 16 iterations, 0.00 seconds (0.00 work units)\n",
      "\n",
      "    Nodes    |    Current Node    |     Objective Bounds      |     Work\n",
      " Expl Unexpl |  Obj  Depth IntInf | Incumbent    BestBd   Gap | It/Node Time\n",
      "\n",
      "     0     0   17.25000    0    6   19.00000   17.25000  9.21%     -    0s\n",
      "H    0     0                      18.0000000   17.25000  4.17%     -    0s\n",
      "     0     0   17.25000    0    6   18.00000   17.25000  4.17%     -    0s\n",
      "\n",
      "Explored 1 nodes (16 simplex iterations) in 0.05 seconds (0.00 work units)\n",
      "Thread count was 8 (of 8 available processors)\n",
      "\n",
      "Solution count 2: 18 19 \n",
      "\n",
      "Optimal solution found (tolerance 1.00e-04)\n",
      "Best objective 1.800000000000e+01, best bound 1.800000000000e+01, gap 0.0000%\n"
     ]
    }
   ],
   "source": [
    "import gurobipy as gp\n",
    "from gurobipy import GRB\n",
    "\n",
    "model = gp.Model()\n",
    "\n",
    "x = {}\n",
    "for i in range(num):\n",
    "    for j in range(num):\n",
    "        x[i, j] = model.addVar(vtype=GRB.BINARY)\n",
    "z = {}\n",
    "for i in range(num):\n",
    "    z[i] = model.addVar(vtype=GRB.CONTINUOUS, lb = 0)\n",
    "\n",
    "# each location is reached\n",
    "for j in range(num):\n",
    "    model.addConstr(\n",
    "        gp.quicksum(x[i, j] for i in range(num)) == 1\n",
    "    )\n",
    "# each location is left\n",
    "for i in range(num):\n",
    "    model.addConstr(\n",
    "        gp.quicksum(x[i, j] for j in range(num)) == 1\n",
    "    )\n",
    "for i in range(num):\n",
    "    model.addConstr(\n",
    "        x[i, i] == 0\n",
    "    )\n",
    "# sub-tour elimination\n",
    "for i in range(1, num):\n",
    "    for j in range(1, num):\n",
    "        if not (i == j):\n",
    "            model.addConstr(z[i] - z[j] + num * x[i, j] <= num - 1)\n",
    "\n",
    "model.setObjective(gp.quicksum(x[i, j]*distance[i][j] for i in range(num) for j in range(num)), GRB.MINIMIZE)\n",
    "            \n",
    "model.optimize()"
   ]
  },
  {
   "cell_type": "code",
   "execution_count": 4,
   "id": "9812dd4f",
   "metadata": {
    "scrolled": false
   },
   "outputs": [
    {
     "name": "stdout",
     "output_type": "stream",
     "text": [
      "path: [1, 4, 2, 6, 3, 5, 1]\n",
      "distance: 18\n"
     ]
    }
   ],
   "source": [
    "runIndex = 0\n",
    "path = [runIndex+1]\n",
    "pathDistance = 0\n",
    "while(len(path) < num+1):\n",
    "    for i in range(num):\n",
    "        if x[runIndex, i].x == 1.0:\n",
    "            path.append(i+1)\n",
    "            pathDistance += distance[runIndex][i]\n",
    "            runIndex = i\n",
    "            break\n",
    "print(f\"path: {path}\")\n",
    "print(f\"distance: {pathDistance}\")"
   ]
  }
 ],
 "metadata": {
  "kernelspec": {
   "display_name": "Python 3 (ipykernel)",
   "language": "python",
   "name": "python3"
  },
  "language_info": {
   "codemirror_mode": {
    "name": "ipython",
    "version": 3
   },
   "file_extension": ".py",
   "mimetype": "text/x-python",
   "name": "python",
   "nbconvert_exporter": "python",
   "pygments_lexer": "ipython3",
   "version": "3.9.7"
  }
 },
 "nbformat": 4,
 "nbformat_minor": 5
}
