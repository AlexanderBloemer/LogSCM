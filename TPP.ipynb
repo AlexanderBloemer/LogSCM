{
 "cells": [
  {
   "cell_type": "code",
   "execution_count": 1,
   "id": "3bf86a39",
   "metadata": {
    "scrolled": true
   },
   "outputs": [],
   "source": [
    "capacity = [75, 125, 100]\n",
    "    \n",
    "demand = [80, 65, 70, 85]\n",
    "\n",
    "costs = [\n",
    "    [464, 513, 654, 867],\n",
    "    [352, 416, 690, 791],\n",
    "    [995, 682, 388, 685]\n",
    "]"
   ]
  },
  {
   "cell_type": "code",
   "execution_count": 2,
   "id": "f85be54f",
   "metadata": {
    "scrolled": false
   },
   "outputs": [
    {
     "name": "stdout",
     "output_type": "stream",
     "text": [
      "Set parameter Username\n",
      "Academic license - for non-commercial use only - expires 2024-03-14\n",
      "Gurobi Optimizer version 10.0.1 build v10.0.1rc0 (win64)\n",
      "\n",
      "CPU model: Intel(R) Core(TM) i7-10510U CPU @ 1.80GHz, instruction set [SSE2|AVX|AVX2]\n",
      "Thread count: 4 physical cores, 8 logical processors, using up to 8 threads\n",
      "\n",
      "Optimize a model with 7 rows, 12 columns and 24 nonzeros\n",
      "Model fingerprint: 0x48385fc2\n",
      "Coefficient statistics:\n",
      "  Matrix range     [1e+00, 1e+00]\n",
      "  Objective range  [4e+02, 1e+03]\n",
      "  Bounds range     [0e+00, 0e+00]\n",
      "  RHS range        [7e+01, 1e+02]\n",
      "Presolve time: 0.00s\n",
      "Presolved: 7 rows, 12 columns, 24 nonzeros\n",
      "\n",
      "Iteration    Objective       Primal Inf.    Dual Inf.      Time\n",
      "       0    1.4058500e+05   7.500000e+01   0.000000e+00      0s\n",
      "       3    1.5253500e+05   0.000000e+00   0.000000e+00      0s\n",
      "\n",
      "Solved in 3 iterations and 0.01 seconds (0.00 work units)\n",
      "Optimal objective  1.525350000e+05\n"
     ]
    }
   ],
   "source": [
    "import gurobipy as gp\n",
    "from gurobipy import GRB\n",
    "\n",
    "model = gp.Model()\n",
    "\n",
    "x = {}\n",
    "for i in range(len(capacity)):\n",
    "    for j in range(len(demand)):\n",
    "        x[i, j] = model.addVar(vtype=GRB.CONTINUOUS, lb=0)\n",
    "\n",
    "for i in range(len(capacity)):\n",
    "    model.addConstr(\n",
    "        gp.quicksum(x[i, j] for j in range(len(demand))) <= capacity[i]\n",
    "    )\n",
    "\n",
    "for j in range(len(demand)):\n",
    "    model.addConstr(\n",
    "        gp.quicksum(x[i, j] for i in range(len(capacity))) == demand[j]\n",
    "    )\n",
    "\n",
    "model.setObjective(gp.quicksum(x[i, j]*costs[i][j] for i in range(len(capacity)) for j in range(len(demand))), GRB.MINIMIZE)\n",
    "            \n",
    "model.optimize()"
   ]
  },
  {
   "cell_type": "code",
   "execution_count": 3,
   "id": "9812dd4f",
   "metadata": {
    "scrolled": false
   },
   "outputs": [
    {
     "name": "stdout",
     "output_type": "stream",
     "text": [
      "[0.0, 20.0, 0.0, 55.0]\n",
      "[80.0, 45.0, 0.0, 0.0]\n",
      "[0.0, 0.0, 70.0, 30.0]\n"
     ]
    }
   ],
   "source": [
    "for i in range(len(capacity)):\n",
    "    print([x[i, j].x for j in range(len(demand))])"
   ]
  }
 ],
 "metadata": {
  "kernelspec": {
   "display_name": "Python 3 (ipykernel)",
   "language": "python",
   "name": "python3"
  },
  "language_info": {
   "codemirror_mode": {
    "name": "ipython",
    "version": 3
   },
   "file_extension": ".py",
   "mimetype": "text/x-python",
   "name": "python",
   "nbconvert_exporter": "python",
   "pygments_lexer": "ipython3",
   "version": "3.9.7"
  }
 },
 "nbformat": 4,
 "nbformat_minor": 5
}
