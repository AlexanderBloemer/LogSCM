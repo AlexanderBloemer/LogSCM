{
 "cells": [
  {
   "cell_type": "code",
   "execution_count": 2,
   "id": "22d1504a",
   "metadata": {
    "scrolled": false
   },
   "outputs": [
    {
     "name": "stdout",
     "output_type": "stream",
     "text": [
      "0.0\t 4.12\t 2.24\t 5.0\t 4.24\t 2.24\t 5.1\t 5.1\t 3.16\t 3.61\t 6.08\t \n",
      "4.12\t 0.0\t 3.16\t 5.66\t 7.28\t 6.0\t 9.0\t 9.22\t 6.4\t 3.16\t 2.83\t \n",
      "2.24\t 3.16\t 0.0\t 3.16\t 4.12\t 3.16\t 6.08\t 6.71\t 5.39\t 4.47\t 5.83\t \n",
      "5.0\t 5.66\t 3.16\t 0.0\t 3.61\t 4.47\t 6.4\t 7.81\t 8.06\t 7.62\t 8.49\t \n",
      "4.24\t 7.28\t 4.12\t 3.61\t 0.0\t 2.24\t 2.83\t 4.47\t 6.32\t 7.81\t 9.85\t \n",
      "2.24\t 6.0\t 3.16\t 4.47\t 2.24\t 0.0\t 3.0\t 3.61\t 4.12\t 5.83\t 8.25\t \n",
      "5.1\t 9.0\t 6.08\t 6.4\t 2.83\t 3.0\t 0.0\t 2.0\t 5.66\t 8.54\t 11.18\t \n",
      "5.1\t 9.22\t 6.71\t 7.81\t 4.47\t 3.61\t 2.0\t 0.0\t 4.47\t 8.06\t 11.0\t \n",
      "3.16\t 6.4\t 5.39\t 8.06\t 6.32\t 4.12\t 5.66\t 4.47\t 0.0\t 4.12\t 7.28\t \n",
      "3.61\t 3.16\t 4.47\t 7.62\t 7.81\t 5.83\t 8.54\t 8.06\t 4.12\t 0.0\t 3.16\t \n",
      "6.08\t 2.83\t 5.83\t 8.49\t 9.85\t 8.25\t 11.18\t 11.0\t 7.28\t 3.16\t 0.0\t \n"
     ]
    }
   ],
   "source": [
    "from math import sqrt\n",
    "\n",
    "# x, y, b\n",
    "nodes = [\n",
    "    [0, 0, 0],  # depot\n",
    "    [4, 1, 1],\n",
    "    [1, 2, 1],\n",
    "    [0, 5, 1],\n",
    "    [-3, 3, 1],\n",
    "    [-2, 1, 1],\n",
    "    [-5, 1, 1],\n",
    "    [-5, -1, 1],\n",
    "    [-1, -3, 1],\n",
    "    [3, -2, 1],\n",
    "    [6, -1, 1]\n",
    "]\n",
    "nLocations = len(nodes)\n",
    "K = 3\n",
    "Q = 4\n",
    "T = 16\n",
    "\n",
    "distance = {}\n",
    "b = []\n",
    "for i in range(nLocations):\n",
    "    b.append(nodes[i][2])\n",
    "    x0 = nodes[i][0]\n",
    "    y0 = nodes[i][1]\n",
    "    for j in range(nLocations):\n",
    "        x1 = nodes[j][0]\n",
    "        y1 = nodes[j][1]\n",
    "        \n",
    "        distance[i, j] = sqrt((x0 - x1) ** 2 + (y0 - y1) **2)\n",
    "        print(str(round(distance[i, j], 2))+\"\\t\", end=\" \")\n",
    "    print()"
   ]
  },
  {
   "cell_type": "code",
   "execution_count": 3,
   "id": "f85be54f",
   "metadata": {
    "scrolled": false
   },
   "outputs": [
    {
     "name": "stdout",
     "output_type": "stream",
     "text": [
      "Set parameter Username\n",
      "Academic license - for non-commercial use only - expires 2024-03-14\n",
      "Gurobi Optimizer version 10.0.1 build v10.0.1rc0 (win64)\n",
      "\n",
      "CPU model: Intel(R) Core(TM) i7-10510U CPU @ 1.80GHz, instruction set [SSE2|AVX|AVX2]\n",
      "Thread count: 4 physical cores, 8 logical processors, using up to 8 threads\n",
      "\n",
      "Optimize a model with 178 rows, 407 columns and 1596 nonzeros\n",
      "Model fingerprint: 0xe9021bc1\n",
      "Variable types: 11 continuous, 396 integer (396 binary)\n",
      "Coefficient statistics:\n",
      "  Matrix range     [1e+00, 1e+01]\n",
      "  Objective range  [2e+00, 1e+01]\n",
      "  Bounds range     [1e+00, 1e+00]\n",
      "  RHS range        [1e+00, 2e+01]\n",
      "Presolve removed 22 rows and 47 columns\n",
      "Presolve time: 0.01s\n",
      "Presolved: 156 rows, 360 columns, 1500 nonzeros\n",
      "Variable types: 10 continuous, 350 integer (350 binary)\n",
      "\n",
      "Root relaxation: objective 2.925473e+01, 144 iterations, 0.00 seconds (0.00 work units)\n",
      "\n",
      "    Nodes    |    Current Node    |     Objective Bounds      |     Work\n",
      " Expl Unexpl |  Obj  Depth IntInf | Incumbent    BestBd   Gap | It/Node Time\n",
      "\n",
      "     0     0   29.25473    0   26          -   29.25473      -     -    0s\n",
      "     0     0   31.75212    0   26          -   31.75212      -     -    0s\n",
      "     0     0   31.75212    0   26          -   31.75212      -     -    0s\n",
      "     0     0   31.75212    0   28          -   31.75212      -     -    0s\n",
      "     0     0   31.75212    0   28          -   31.75212      -     -    0s\n",
      "     0     0   31.75212    0   24          -   31.75212      -     -    0s\n",
      "     0     0   31.75212    0   24          -   31.75212      -     -    0s\n",
      "     0     2   31.75212    0   24          -   31.75212      -     -    0s\n",
      "*  301   232              24      42.7132753   33.18264  22.3%   8.8    0s\n",
      "* 1008   426              15      41.9288277   35.21537  16.0%   7.3    0s\n",
      "H 1235   537                      41.8363809   35.68579  14.7%   7.2    0s\n",
      "\n",
      "Cutting planes:\n",
      "  Learned: 16\n",
      "  Gomory: 4\n",
      "  Cover: 16\n",
      "  Implied bound: 11\n",
      "  Clique: 6\n",
      "  MIR: 25\n",
      "  Inf proof: 13\n",
      "\n",
      "Explored 4755 nodes (34563 simplex iterations) in 1.03 seconds (0.58 work units)\n",
      "Thread count was 8 (of 8 available processors)\n",
      "\n",
      "Solution count 3: 41.8364 41.9288 42.7133 \n",
      "\n",
      "Optimal solution found (tolerance 1.00e-04)\n",
      "Best objective 4.183638087892e+01, best bound 4.183638087892e+01, gap 0.0000%\n"
     ]
    }
   ],
   "source": [
    "import gurobipy as gp\n",
    "from gurobipy import GRB\n",
    "\n",
    "model = gp.Model()\n",
    "\n",
    "x = {}\n",
    "for i in range(nLocations):\n",
    "    for j in range(nLocations):\n",
    "        for k in range(K):\n",
    "            x[i, j, k] = model.addVar(vtype=GRB.BINARY)\n",
    "y = {}\n",
    "for i in range(nLocations):\n",
    "    for k in range(K):\n",
    "        y[i, k] = model.addVar(vtype=GRB.BINARY)\n",
    "z = {}\n",
    "for i in range(nLocations):\n",
    "    z[i] = model.addVar(vtype=GRB.CONTINUOUS, lb = 0)\n",
    "\n",
    "# each location is reached\n",
    "for j in range(1, nLocations):\n",
    "    for k in range(K):\n",
    "        model.addConstr(gp.quicksum(x[i, j, k] for i in range(nLocations)) == y[j, k])\n",
    "# each location is left\n",
    "for i in range(1, nLocations):\n",
    "    for k in range(K):\n",
    "        model.addConstr(gp.quicksum(x[i, j, k] for j in range(nLocations)) == y[i, k])\n",
    "for i in range(nLocations):\n",
    "    model.addConstr(gp.quicksum(x[i, i, k] for k in range(K)) == 0)\n",
    "# sub-tour elimination\n",
    "for i in range(1, nLocations):\n",
    "    for j in range(1, nLocations):\n",
    "        if not (i == j):\n",
    "            model.addConstr(z[i] - z[j] + nLocations * gp.quicksum(x[i, j, k] for k in range(K)) <= nLocations - 1)\n",
    "# cluster\n",
    "for i in range(1, nLocations):\n",
    "    model.addConstr(gp.quicksum(y[i, k] for k in range(K)) == 1)\n",
    "model.addConstr(gp.quicksum(y[0, k] for k in range(K)) == K)\n",
    "# capacities\n",
    "for k in range(K):\n",
    "    model.addConstr(gp.quicksum(b[i] * y[i, k] for i in range(1, nLocations)) <= Q)\n",
    "    model.addConstr(gp.quicksum(distance[i, j] * x[i, j, k] for i in range(nLocations) for j in range(nLocations)) <= T)\n",
    "            \n",
    "model.setObjective(\n",
    "    gp.quicksum(x[i, j, k]*distance[i, j] for i in range(nLocations) for j in range(nLocations) for k in range(K)), \n",
    "    GRB.MINIMIZE\n",
    ")\n",
    "            \n",
    "model.optimize()"
   ]
  },
  {
   "cell_type": "code",
   "execution_count": 4,
   "id": "9812dd4f",
   "metadata": {
    "scrolled": false
   },
   "outputs": [
    {
     "name": "stdout",
     "output_type": "stream",
     "text": [
      "path of vehicle 0: [0, 9, 10, 1, 0]\n",
      "path of vehicle 1: [0, 8, 7, 6, 5, 0]\n",
      "path of vehicle 2: [0, 4, 3, 2, 0]\n",
      "total distance: 41.836380878915406\n"
     ]
    }
   ],
   "source": [
    "pathDistance = 0\n",
    "for k in range(K):\n",
    "    runIndex = 0\n",
    "    path = [runIndex]\n",
    "    finished = False\n",
    "    while(not finished):\n",
    "        for i in range(nLocations):\n",
    "            if x[runIndex, i, k].x == 1.0:\n",
    "                path.append(i)\n",
    "                pathDistance += distance[runIndex, i]\n",
    "                runIndex = i\n",
    "                finished = (i == 0)\n",
    "                break\n",
    "    print(f\"path of vehicle {k}: {path}\")\n",
    "print(f\"total distance: {pathDistance}\")"
   ]
  }
 ],
 "metadata": {
  "kernelspec": {
   "display_name": "Python 3 (ipykernel)",
   "language": "python",
   "name": "python3"
  },
  "language_info": {
   "codemirror_mode": {
    "name": "ipython",
    "version": 3
   },
   "file_extension": ".py",
   "mimetype": "text/x-python",
   "name": "python",
   "nbconvert_exporter": "python",
   "pygments_lexer": "ipython3",
   "version": "3.9.7"
  }
 },
 "nbformat": 4,
 "nbformat_minor": 5
}
