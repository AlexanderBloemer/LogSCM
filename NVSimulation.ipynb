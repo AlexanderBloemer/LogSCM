{
 "cells": [
  {
   "cell_type": "code",
   "execution_count": 2,
   "id": "fc6a042f",
   "metadata": {},
   "outputs": [
    {
     "name": "stdout",
     "output_type": "stream",
     "text": [
      "Expected demand: 125.0\n",
      "Variance: 62.5\n"
     ]
    }
   ],
   "source": [
    "p = 10  # selling price\n",
    "c = 3  # purchasing costs\n",
    "s = 2  # salvage price\n",
    "\n",
    "binom_p = 0.5  # demand probability\n",
    "binom_n = 250  # max. demand\n",
    "\n",
    "print(f\"Expected demand: {binom_n * binom_p}\")\n",
    "print(f\"Variance: {binom_n * binom_p * (1-binom_p)}\")"
   ]
  },
  {
   "cell_type": "code",
   "execution_count": 3,
   "id": "603d6d33",
   "metadata": {},
   "outputs": [
    {
     "name": "stdout",
     "output_type": "stream",
     "text": [
      "Critical ratio: 0.875\n",
      "Order quantity: 134\n"
     ]
    }
   ],
   "source": [
    "from scipy.stats import binom\n",
    "\n",
    "c_o = c - s\n",
    "c_u = p - c\n",
    "critical_ratio = c_u / (c_u + c_o)\n",
    "print(f\"Critical ratio: {critical_ratio}\")\n",
    "for i in range(binom_n):\n",
    "    if binom.cdf(i, binom_n, binom_p) >= critical_ratio:\n",
    "        y = i\n",
    "        break\n",
    "print(f\"Order quantity: {y}\")"
   ]
  },
  {
   "cell_type": "markdown",
   "id": "a900bf73",
   "metadata": {},
   "source": [
    "### Simulation"
   ]
  },
  {
   "cell_type": "code",
   "execution_count": 4,
   "id": "8c235a23",
   "metadata": {},
   "outputs": [
    {
     "name": "stdout",
     "output_type": "stream",
     "text": [
      "Mean: 125.39, standard deviation: 58.7251515151515\n"
     ]
    },
    {
     "data": {
      "text/html": [
       "<div>\n",
       "<style scoped>\n",
       "    .dataframe tbody tr th:only-of-type {\n",
       "        vertical-align: middle;\n",
       "    }\n",
       "\n",
       "    .dataframe tbody tr th {\n",
       "        vertical-align: top;\n",
       "    }\n",
       "\n",
       "    .dataframe thead th {\n",
       "        text-align: right;\n",
       "    }\n",
       "</style>\n",
       "<table border=\"1\" class=\"dataframe\">\n",
       "  <thead>\n",
       "    <tr style=\"text-align: right;\">\n",
       "      <th></th>\n",
       "      <th>Day</th>\n",
       "      <th>Demand</th>\n",
       "      <th>Overage</th>\n",
       "      <th>Underage</th>\n",
       "      <th>Profit</th>\n",
       "    </tr>\n",
       "  </thead>\n",
       "  <tbody>\n",
       "    <tr>\n",
       "      <th>0</th>\n",
       "      <td>0</td>\n",
       "      <td>132</td>\n",
       "      <td>2</td>\n",
       "      <td>0</td>\n",
       "      <td>922</td>\n",
       "    </tr>\n",
       "    <tr>\n",
       "      <th>1</th>\n",
       "      <td>1</td>\n",
       "      <td>131</td>\n",
       "      <td>3</td>\n",
       "      <td>0</td>\n",
       "      <td>914</td>\n",
       "    </tr>\n",
       "    <tr>\n",
       "      <th>2</th>\n",
       "      <td>2</td>\n",
       "      <td>131</td>\n",
       "      <td>3</td>\n",
       "      <td>0</td>\n",
       "      <td>914</td>\n",
       "    </tr>\n",
       "    <tr>\n",
       "      <th>3</th>\n",
       "      <td>3</td>\n",
       "      <td>136</td>\n",
       "      <td>0</td>\n",
       "      <td>2</td>\n",
       "      <td>938</td>\n",
       "    </tr>\n",
       "    <tr>\n",
       "      <th>4</th>\n",
       "      <td>4</td>\n",
       "      <td>127</td>\n",
       "      <td>7</td>\n",
       "      <td>0</td>\n",
       "      <td>882</td>\n",
       "    </tr>\n",
       "    <tr>\n",
       "      <th>...</th>\n",
       "      <td>...</td>\n",
       "      <td>...</td>\n",
       "      <td>...</td>\n",
       "      <td>...</td>\n",
       "      <td>...</td>\n",
       "    </tr>\n",
       "    <tr>\n",
       "      <th>95</th>\n",
       "      <td>95</td>\n",
       "      <td>125</td>\n",
       "      <td>9</td>\n",
       "      <td>0</td>\n",
       "      <td>866</td>\n",
       "    </tr>\n",
       "    <tr>\n",
       "      <th>96</th>\n",
       "      <td>96</td>\n",
       "      <td>111</td>\n",
       "      <td>23</td>\n",
       "      <td>0</td>\n",
       "      <td>754</td>\n",
       "    </tr>\n",
       "    <tr>\n",
       "      <th>97</th>\n",
       "      <td>97</td>\n",
       "      <td>114</td>\n",
       "      <td>20</td>\n",
       "      <td>0</td>\n",
       "      <td>778</td>\n",
       "    </tr>\n",
       "    <tr>\n",
       "      <th>98</th>\n",
       "      <td>98</td>\n",
       "      <td>116</td>\n",
       "      <td>18</td>\n",
       "      <td>0</td>\n",
       "      <td>794</td>\n",
       "    </tr>\n",
       "    <tr>\n",
       "      <th>99</th>\n",
       "      <td>99</td>\n",
       "      <td>121</td>\n",
       "      <td>13</td>\n",
       "      <td>0</td>\n",
       "      <td>834</td>\n",
       "    </tr>\n",
       "  </tbody>\n",
       "</table>\n",
       "<p>100 rows × 5 columns</p>\n",
       "</div>"
      ],
      "text/plain": [
       "    Day  Demand  Overage  Underage  Profit\n",
       "0     0     132        2         0     922\n",
       "1     1     131        3         0     914\n",
       "2     2     131        3         0     914\n",
       "3     3     136        0         2     938\n",
       "4     4     127        7         0     882\n",
       "..  ...     ...      ...       ...     ...\n",
       "95   95     125        9         0     866\n",
       "96   96     111       23         0     754\n",
       "97   97     114       20         0     778\n",
       "98   98     116       18         0     794\n",
       "99   99     121       13         0     834\n",
       "\n",
       "[100 rows x 5 columns]"
      ]
     },
     "execution_count": 4,
     "metadata": {},
     "output_type": "execute_result"
    }
   ],
   "source": [
    "import pandas as pd\n",
    "import numpy as np\n",
    "\n",
    "seed = 12345\n",
    "random = np.random.default_rng(seed=seed)\n",
    "\n",
    "n_days = 100\n",
    "\n",
    "demands = binom.rvs(binom_n, binom_p, size=n_days)\n",
    "mean = sum([demands[i] for i in range(n_days)]) / n_days\n",
    "standard_deviation = sum([(demands[i]-mean)**2 for i in range(n_days)]) / (n_days-1)\n",
    "print(f\"Mean: {mean}, standard deviation: {standard_deviation}\")\n",
    "\n",
    "overage = {}\n",
    "underage = {}\n",
    "profit = {}\n",
    "for i in range(n_days):\n",
    "    overage[i] = max(y-demands[i], 0)\n",
    "    underage[i] = max(demands[i]-y, 0)\n",
    "    profit[i] = p * min(y, demands[i]) - c * y + s * overage[i]\n",
    "\n",
    "    \n",
    "pd.DataFrame(\n",
    "    [[i, demands[i], overage[i], underage[i], profit[i]] for i in range(n_days)], \n",
    "    columns=[\"Day\", \"Demand\", \"Overage\", \"Underage\", \"Profit\"])"
   ]
  },
  {
   "cell_type": "code",
   "execution_count": 4,
   "id": "9cd33bd5",
   "metadata": {},
   "outputs": [
    {
     "data": {
      "image/png": "[encoded data removed]",
      "text/plain": [
       "<Figure size 640x480 with 1 Axes>"
      ]
     },
     "metadata": {},
     "output_type": "display_data"
    }
   ],
   "source": [
    "from matplotlib import pyplot as plt\n",
    "\n",
    "plt.plot(range(n_days), [y for i in range(n_days)], label='Order quantity')\n",
    "plt.plot(range(n_days), demands, label='Demand')\n",
    "plt.plot(range(n_days), [binom_n * binom_p for i in range(n_days)], linestyle='dashed', label='Mean')\n",
    "plt.legend()\n",
    "plt.ylim(0, binom_n)\n",
    "plt.show()"
   ]
  }
 ],
 "metadata": {
  "kernelspec": {
   "display_name": "Python 3 (ipykernel)",
   "language": "python",
   "name": "python3"
  },
  "language_info": {
   "codemirror_mode": {
    "name": "ipython",
    "version": 3
   },
   "file_extension": ".py",
   "mimetype": "text/x-python",
   "name": "python",
   "nbconvert_exporter": "python",
   "pygments_lexer": "ipython3",
   "version": "3.9.12"
  }
 },
 "nbformat": 4,
 "nbformat_minor": 5
}
